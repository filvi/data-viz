{
 "cells": [
  {
   "cell_type": "markdown",
   "metadata": {},
   "source": [
    "<h1 style=\"text-justify:center\" >Table of content (slides)</h1>\n",
    "\n",
    "|Slide|Chapter|Section|\n",
    "|--------|-----|--|\n",
    "|03. Data foundation|Understanding|perceiving :: interpreting :: comprehending|\n",
    "|03. Data foundation|Principles| trustworthiness :: accessiblility :: elegance |\n",
    "|04. Workflow| practice guideline|-|"
   ]
  },
  {
   "cell_type": "markdown",
   "metadata": {},
   "source": [
    "\n",
    "# 03 Foundtions\n",
    "## Data visualization\n",
    "ingredients\n",
    "\n"
   ]
  },
  {
   "cell_type": "markdown",
   "metadata": {},
   "source": [
    "## Understanding\n",
    "| perceiving | interpreting | comprehending |\n",
    "| --- | --- | --- |\n",
    "| visual feedback | bib/small | relevance |\n",
    "| size | up/down | suspect confirmation or not |\n",
    "| proportion | decrease vs increase | impact on viewer |\n",
    "| ranking | insights from previous knowledge | call to action |\n",
    "| other scale | | understading |\n",
    "| proportion | | hidden choice motivation |\n",
    "| comparison | | |"
   ]
  },
  {
   "cell_type": "markdown",
   "metadata": {},
   "source": [
    "## Priciples\n",
    "| trustworthiness | accessiblility | elegance |\n",
    "| --- | --- | --- |\n",
    "| difference between true and trustworty | minimum friction | remove to improve |\n",
    "| integrity + accuracy + legittimacy | reader side | decoration to be additive |\n",
    "| colors | author side | elegance and appealing |\n",
    "| fonts | visual quality | don't pursue minimalism |\n",
    "| background | | conguency |\n",
    "| data description | | visual quality to attract audience |\n",
    "| source | | dont let the stile overcome the substance |\n",
    "| made some modifications? | | |\n",
    "| what assumption | | |\n",
    "| possible distqortion | | |\n",
    "| avoid misunderstanding | | |\n",
    "| deception | | |\n",
    "| - aspect ratio of chart | | |\n",
    "| - start axis from 0 | | |\n",
    "| - don't distort shapes | | |\n",
    "| relevance | | |\n",
    "| annotation | | |"
   ]
  },
  {
   "cell_type": "markdown",
   "metadata": {},
   "source": [
    "## 04 Workflow"
   ]
  },
  {
   "cell_type": "markdown",
   "metadata": {},
   "source": []
  }
 ],
 "metadata": {
  "language_info": {
   "name": "python"
  },
  "orig_nbformat": 4
 },
 "nbformat": 4,
 "nbformat_minor": 2
}
