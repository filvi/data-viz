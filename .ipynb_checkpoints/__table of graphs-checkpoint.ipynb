{
 "cells": [
  {
   "cell_type": "markdown",
   "metadata": {},
   "source": [
    "#  Bar Chart (column chart)\n",
    "<img src=\"./graphs/clustered_bar_chart.png\"  width=\"auto\" max-height=\"300px\"/>\n",
    "\n",
    "--------"
   ]
  },
  {
   "cell_type": "markdown",
   "metadata": {},
   "source": [
    "\n",
    "# Dot plot\n",
    "<img src=\"./graphs/dot_plot.png\"  width=\"auto\" max-height=\"300px\"/>\n",
    "\n",
    "--------\n"
   ]
  },
  {
   "cell_type": "markdown",
   "metadata": {},
   "source": [
    "\n",
    "# Connected dot plot (barbell chart, dumb bell chart)\n",
    "<img src=\"./graphs/connected_dot_plot.png\"  width=\"auto\" height=\"300px\"/>\n",
    "\n",
    "--------\n"
   ]
  },
  {
   "cell_type": "markdown",
   "metadata": {},
   "source": [
    "\n",
    "# Pictogram (isotype chart, pictorial bar chart, stacked shape chart, tally chart)\n",
    "<img src=\"./graphs/pictogram_1.png\"  width=\"auto\" max-height=\"300px\"/>\n",
    "<img src=\"./graphs/pictogram_2.png\"  width=\"auto\" max-height=\"300px\"/>\n",
    "<img src=\"./graphs/pictogram_3.png\"  width=\"auto\" max-height=\"300px\"/>\n",
    "<img src=\"./graphs/pictogram_4.png\"  width=\"auto\" max-height=\"300px\"/>\n",
    "\n",
    "--------\n"
   ]
  },
  {
   "cell_type": "markdown",
   "metadata": {},
   "source": [
    "\n",
    "# Bubble chart (circle packing diagram)\n",
    "<img src=\"./graphs/bubble_chart.png\"  width=\"auto\" max-height=\"300px\"/>\n",
    "\n",
    "--------\n"
   ]
  },
  {
   "cell_type": "markdown",
   "metadata": {},
   "source": [
    "\n",
    "# Radar chart (star chart, spider diagram, web chart)\n",
    "<img src=\"./graphs/radar_chart.png\"  width=\"auto\" max-height=\"300px\"/>\n",
    "\n",
    "--------\n"
   ]
  },
  {
   "cell_type": "markdown",
   "metadata": {},
   "source": [
    "# Polar chart (coxcomb plot, area plot)\n",
    "<img src=\"./graphs/polar_chart.png\"  width=\"auto\" max-height=\"300px\"/>\n",
    "\n",
    "--------"
   ]
  },
  {
   "cell_type": "markdown",
   "metadata": {},
   "source": [
    "# Range chart (span chart, floating bar chart, barometer chart)\n",
    "<img src=\"./graphs/range_chart.png\"  width=\"auto\" max-height=\"300px\"/>\n",
    "\n",
    "--------"
   ]
  },
  {
   "cell_type": "markdown",
   "metadata": {},
   "source": [
    "# box-and-whisker plot (boxplot)\n",
    "<img src=\"./graphs/box-and-whisker.png\"  width=\"auto\" max-height=\"300px\"/>\n",
    "\n",
    "--------"
   ]
  },
  {
   "cell_type": "markdown",
   "metadata": {},
   "source": [
    "# box-and-whisker plot (boxplot)\n",
    "<img src=\"./graphs/box-and-whisker.png.png\"  width=\"auto\" max-height=\"300px\"/>\n",
    "\n",
    "--------"
   ]
  }
 ],
 "metadata": {
  "kernelspec": {
   "display_name": "Python 3 (ipykernel)",
   "language": "python",
   "name": "python3"
  },
  "language_info": {
   "codemirror_mode": {
    "name": "ipython",
    "version": 3
   },
   "file_extension": ".py",
   "mimetype": "text/x-python",
   "name": "python",
   "nbconvert_exporter": "python",
   "pygments_lexer": "ipython3",
   "version": "3.10.0"
  }
 },
 "nbformat": 4,
 "nbformat_minor": 2
}
