{
 "cells": [
  {
   "cell_type": "markdown",
   "metadata": {},
   "source": [
    "#  Bar Chart (column chart)\n",
    "<img src=\"./graphs/clustered_bar_chart.png\"  width=\"auto\" max-height=\"300px\"/>\n",
    "--------\n",
    "\n",
    "\n",
    "# Dot plot\n",
    "<img src=\"./graphs/dot_plot.png\"  width=\"auto\" max-height=\"300px\"/>\n",
    "--------\n",
    "\n",
    "# Connected dot plot (barbell chart, dumb bell chart)\n",
    "<img src=\"./graphs/connected_dot_plot.png\"  width=\"auto\" height=\"300px\"/>\n",
    "--------\n",
    "\n",
    "\n",
    "# Pictogram (isotype chart, pictorial bar chart, stacked shape chart, tally chart)\n",
    "<img src=\"./graphs/pictogram_1.png\"  width=\"auto\" max-height=\"300px\"/>\n",
    "<img src=\"./graphs/pictogram_2.png\"  width=\"auto\" max-height=\"300px\"/>\n",
    "<img src=\"./graphs/pictogram_3.png\"  width=\"auto\" max-height=\"300px\"/>\n",
    "<img src=\"./graphs/pictogram_4.png\"  width=\"auto\" max-height=\"300px\"/>\n",
    "--------\n",
    "\n",
    "\n",
    "# Bubble chart (circle packing diagram)\n",
    "<img src=\"./graphs/bubble_chart.png\"  width=\"auto\" max-height=\"300px\"/>\n",
    "--------"
   ]
  },
  {
   "cell_type": "markdown",
   "metadata": {},
   "source": []
  },
  {
   "cell_type": "markdown",
   "metadata": {},
   "source": []
  },
  {
   "cell_type": "markdown",
   "metadata": {},
   "source": []
  }
 ],
 "metadata": {
  "language_info": {
   "name": "python"
  },
  "orig_nbformat": 4
 },
 "nbformat": 4,
 "nbformat_minor": 2
}
