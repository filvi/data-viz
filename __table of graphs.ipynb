{
 "cells": [
  {
   "cell_type": "markdown",
   "metadata": {},
   "source": [
    "#  Bar Chart (column chart)\n",
    "<img src=\"./graphs/clustered_bar_chart.png\"  width=\"auto\" max-height=\"300px\"/>\n",
    "\n",
    "--------"
   ]
  },
  {
   "cell_type": "markdown",
   "metadata": {},
   "source": [
    "\n",
    "# Dot plot\n",
    "<img src=\"./graphs/dot_plot.png\"  width=\"auto\" max-height=\"300px\"/>\n",
    "\n",
    "--------\n"
   ]
  },
  {
   "cell_type": "markdown",
   "metadata": {},
   "source": [
    "\n",
    "# Connected dot plot (barbell chart, dumb bell chart)\n",
    "<img src=\"./graphs/connected_dot_plot.png\"  width=\"auto\" height=\"300px\"/>\n",
    "\n",
    "--------\n"
   ]
  },
  {
   "cell_type": "markdown",
   "metadata": {},
   "source": [
    "\n",
    "# Pictogram (isotype chart, pictorial bar chart, stacked shape chart, tally chart)\n",
    "<img src=\"./graphs/pictogram_1.png\"  width=\"auto\" max-height=\"300px\"/>\n",
    "<img src=\"./graphs/pictogram_2.png\"  width=\"auto\" max-height=\"300px\"/>\n",
    "<img src=\"./graphs/pictogram_3.png\"  width=\"auto\" max-height=\"300px\"/>\n",
    "<img src=\"./graphs/pictogram_4.png\"  width=\"auto\" max-height=\"300px\"/>\n",
    "\n",
    "--------\n"
   ]
  },
  {
   "cell_type": "markdown",
   "metadata": {},
   "source": [
    "\n",
    "# Bubble chart (circle packing diagram)\n",
    "<img src=\"./graphs/bubble_chart.png\"  width=\"auto\" max-height=\"300px\"/>\n",
    "\n",
    "--------\n"
   ]
  },
  {
   "cell_type": "markdown",
   "metadata": {},
   "source": [
    "\n",
    "# Radar chart (star chart, spider diagram, web chart)\n",
    "<img src=\"./graphs/radar_chart.png\"  width=\"auto\" max-height=\"300px\"/>\n",
    "\n",
    "--------\n"
   ]
  },
  {
   "cell_type": "markdown",
   "metadata": {},
   "source": [
    "# Polar chart (coxcomb plot, area plot)\n",
    "<img src=\"./graphs/polar_chart.png\"  width=\"auto\" max-height=\"300px\"/>\n",
    "\n",
    "--------"
   ]
  },
  {
   "cell_type": "markdown",
   "metadata": {},
   "source": [
    "# Range chart (span chart, floating bar chart, barometer chart)\n",
    "<img src=\"./graphs/range_chart.png\"  width=\"auto\" max-height=\"300px\"/>\n",
    "\n",
    "--------"
   ]
  },
  {
   "cell_type": "markdown",
   "metadata": {},
   "source": [
    "# box-and-whisker plot (boxplot)\n",
    "<img src=\"./graphs/box-and-whisker.png\"  width=\"auto\" max-height=\"300px\"/>\n",
    "\n",
    "--------"
   ]
  },
  {
   "cell_type": "markdown",
   "metadata": {},
   "source": [
    "# box-and-whisker plot (boxplot)\n",
    "<img src=\"./graphs/box-and-whisker.png.png\"  width=\"auto\" max-height=\"300px\"/>\n",
    "\n",
    "--------"
   ]
  }
 ],
 "metadata": {
  "language_info": {
   "name": "python"
  },
  "orig_nbformat": 4
 },
 "nbformat": 4,
 "nbformat_minor": 2
}
